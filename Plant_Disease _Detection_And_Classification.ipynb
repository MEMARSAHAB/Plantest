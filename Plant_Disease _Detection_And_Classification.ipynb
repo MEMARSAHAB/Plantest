{
 "cells": [
  {
   "cell_type": "code",
   "execution_count": 1,
   "id": "preliminary-comparison",
   "metadata": {
    "execution": {
     "iopub.execute_input": "2021-05-10T08:02:17.690090Z",
     "iopub.status.busy": "2021-05-10T08:02:17.688841Z",
     "iopub.status.idle": "2021-05-10T08:02:19.334294Z",
     "shell.execute_reply": "2021-05-10T08:02:19.333118Z"
    },
    "papermill": {
     "duration": 1.68707,
     "end_time": "2021-05-10T08:02:19.334509",
     "exception": false,
     "start_time": "2021-05-10T08:02:17.647439",
     "status": "completed"
    },
    "tags": []
   },
   "outputs": [
    {
     "name": "stdout",
     "output_type": "stream",
     "text": [
      "Mon May 10 08:02:18 2021       \r\n",
      "+-----------------------------------------------------------------------------+\r\n",
      "| NVIDIA-SMI 450.51.06    Driver Version: 450.51.06    CUDA Version: 11.0     |\r\n",
      "|-------------------------------+----------------------+----------------------+\r\n",
      "| GPU  Name        Persistence-M| Bus-Id        Disp.A | Volatile Uncorr. ECC |\r\n",
      "| Fan  Temp  Perf  Pwr:Usage/Cap|         Memory-Usage | GPU-Util  Compute M. |\r\n",
      "|                               |                      |               MIG M. |\r\n",
      "|===============================+======================+======================|\r\n",
      "|   0  Tesla P100-PCIE...  Off  | 00000000:00:04.0 Off |                    0 |\r\n",
      "| N/A   43C    P0    30W / 250W |      0MiB / 16280MiB |      4%      Default |\r\n",
      "|                               |                      |                  N/A |\r\n",
      "+-------------------------------+----------------------+----------------------+\r\n",
      "                                                                               \r\n",
      "+-----------------------------------------------------------------------------+\r\n",
      "| Processes:                                                                  |\r\n",
      "|  GPU   GI   CI        PID   Type   Process name                  GPU Memory |\r\n",
      "|        ID   ID                                                   Usage      |\r\n",
      "|=============================================================================|\r\n",
      "|  No running processes found                                                 |\r\n",
      "+-----------------------------------------------------------------------------+\r\n"
     ]
    }
   ],
   "source": [
    "!nvidia-smi"
   ]
  },
  {
   "cell_type": "markdown",
   "id": "occupational-backing",
   "metadata": {
    "papermill": {
     "duration": 0.017825,
     "end_time": "2021-05-10T08:02:19.372387",
     "exception": false,
     "start_time": "2021-05-10T08:02:19.354562",
     "status": "completed"
    },
    "tags": []
   },
   "source": [
    "# Identify Plant Diseases\n",
    "\n",
    "We use the PlantVillage dataset [1] by Hughes et al. consists of about 87,000 healthy and unhealthy leaf images divided into 38 categories by species and disease. Here we provide a subset of our experiments on working with this data. We also end up transfer learning from MobileNet and use the weights from pre-training on ImageNet.\n",
    "\n",
    "* ![PlantVillage Dataset Samples](https://i.imgur.com/Zcxdrlc.png)\n",
    "Figure 1. PlantVillage Dataset Samples\n",
    "\n",
    "## Classes\n",
    "\n",
    "The following 38 classes are availaible in the dataset\n",
    "\n",
    "- `Apple___Apple_scab` \n",
    "- `Apple___Black_rot` \n",
    "- `Apple___Cedar_apple_rust` \n",
    "- `Apple___healthy` \n",
    "- `Blueberry___healthy` \n",
    "- `Cherry_(including_sour)___Powdery_mildew` \n",
    "- `Cherry_(including_sour)___healthy` \n",
    "- `Corn_(maize)___Cercospora_leaf_spot Gray_leaf_spot` \n",
    "- `Corn_(maize)___Common_rust_` \n",
    "- `Corn_(maize)___Northern_Leaf_Blight` \n",
    "- `Corn_(maize)___healthy', 'Grape___Black_rot` \n",
    "- `Grape___Leaf_blight_(Isariopsis_Leaf_Spot)` \n",
    "- `Grape___healthy` \n",
    "- `Orange___Haunglongbing_(Citrus_greening)` \n",
    "- `Peach___Bacterial_spot` \n",
    "- `Peach___healthy` \n",
    "- `Pepper,_bell___Bacterial_spot` \n",
    "- `Pepper,_bell___healthy` \n",
    "- `Potato___Early_blight` \n",
    "- `Potato___Late_blight` \n",
    "- `Potato___healthy` \n",
    "- `Raspberry___healthy` \n",
    "- `Soybean___healthy` \n",
    "- `Squash___Powdery_mildew` \n",
    "- `Strawberry___Leaf_scorch` \n",
    "- `Strawberry___healthy` \n",
    "- `Tomato___Bacterial_spot` \n",
    "- `Tomato___Late_blight` \n",
    "- `Tomato___Leaf_Mold` \n",
    "- `Tomato___Septoria_leaf_spot` \n",
    "- `Tomato___Spider_mites Two-spotted_spider_mite` \n",
    "- `Tomato___Target_Spot` \n",
    "- `Tomato___Tomato_Yellow_Leaf_Curl_Virus` \n",
    "- `Tomato___Tomato_mosaic_virus` \n",
    "- `Tomato___healthy`\n",
    "\n",
    "## References\n",
    "\n",
    "[1] Hughes, David P., and Marcel Salathe. “An Open Access Repository of Images on Plant Health to Enable the Development of Mobile Disease Diagnostics.” ArXiv:1511.08060 [Cs], Apr. 2016. arXiv.org, http://arxiv.org/abs/1511.08060.\n",
    "\n",
    "[2] Howard, Andrew G., et al. “MobileNets: Efficient Convolutional Neural Networks for Mobile Vision Applications.” ArXiv:1704.04861 [Cs], Apr. 2017. arXiv.org, http://arxiv.org/abs/1704.04861.\n"
   ]
  },
  {
   "cell_type": "markdown",
   "id": "wrapped-pioneer",
   "metadata": {
    "papermill": {
     "duration": 0.017483,
     "end_time": "2021-05-10T08:02:19.407805",
     "exception": false,
     "start_time": "2021-05-10T08:02:19.390322",
     "status": "completed"
    },
    "tags": []
   },
   "source": [
    "## Setup"
   ]
  },
  {
   "cell_type": "code",
   "execution_count": 2,
   "id": "national-region",
   "metadata": {
    "execution": {
     "iopub.execute_input": "2021-05-10T08:02:19.449649Z",
     "iopub.status.busy": "2021-05-10T08:02:19.448788Z",
     "iopub.status.idle": "2021-05-10T08:02:26.158387Z",
     "shell.execute_reply": "2021-05-10T08:02:26.157313Z"
    },
    "papermill": {
     "duration": 6.732689,
     "end_time": "2021-05-10T08:02:26.158560",
     "exception": false,
     "start_time": "2021-05-10T08:02:19.425871",
     "status": "completed"
    },
    "tags": []
   },
   "outputs": [],
   "source": [
    "import tensorflow as tf\n",
    "from tensorflow import keras\n",
    "\n",
    "import matplotlib.pyplot as plt\n",
    "import numpy as np\n",
    "\n",
    "import os"
   ]
  },
  {
   "cell_type": "code",
   "execution_count": 3,
   "id": "nonprofit-gospel",
   "metadata": {
    "execution": {
     "iopub.execute_input": "2021-05-10T08:02:26.198771Z",
     "iopub.status.busy": "2021-05-10T08:02:26.197946Z",
     "iopub.status.idle": "2021-05-10T08:02:26.201171Z",
     "shell.execute_reply": "2021-05-10T08:02:26.201803Z"
    },
    "papermill": {
     "duration": 0.025883,
     "end_time": "2021-05-10T08:02:26.201938",
     "exception": false,
     "start_time": "2021-05-10T08:02:26.176055",
     "status": "completed"
    },
    "tags": []
   },
   "outputs": [],
   "source": [
    "image_size = 224\n",
    "target_size = (image_size, image_size)\n",
    "input_shape = (image_size, image_size, 3)\n",
    "\n",
    "batch_size = 64\n",
    "epochs = 100"
   ]
  },
  {
   "cell_type": "markdown",
   "id": "subjective-silly",
   "metadata": {
    "papermill": {
     "duration": 0.018973,
     "end_time": "2021-05-10T08:02:26.238826",
     "exception": false,
     "start_time": "2021-05-10T08:02:26.219853",
     "status": "completed"
    },
    "tags": []
   },
   "source": [
    "## Get data\n",
    "\n",
    "In order to make the most of our few training examples, we will \"augment\" them via a number of random transformations, so that our model would never see twice the exact same picture. This helps prevent overfitting and helps the model generalize better.\n",
    "\n",
    "In TensorFlow this can be done via the `tf.keras.preprocessing.image.ImageDataGenerator` class. This class allows you to:\n",
    "\n",
    "- configure random transformations and normalization operations to be done on your image data during training\n",
    "- instantiate generators of augmented image batches (and their labels) via `.flow(data, labels)` or `.flow_from_directory(directory)`. These generators can then be used with the `tf.keras` model methods that accept data generators as inputs, `fit`, `evaluate` and `predict`."
   ]
  },
  {
   "cell_type": "code",
   "execution_count": 4,
   "id": "combined-arizona",
   "metadata": {
    "execution": {
     "iopub.execute_input": "2021-05-10T08:02:26.280960Z",
     "iopub.status.busy": "2021-05-10T08:02:26.280012Z",
     "iopub.status.idle": "2021-05-10T08:02:26.284384Z",
     "shell.execute_reply": "2021-05-10T08:02:26.283759Z"
    },
    "papermill": {
     "duration": 0.027455,
     "end_time": "2021-05-10T08:02:26.284547",
     "exception": false,
     "start_time": "2021-05-10T08:02:26.257092",
     "status": "completed"
    },
    "tags": []
   },
   "outputs": [],
   "source": [
    "base_dir = \"../input/new-plant-diseases-dataset/new plant diseases dataset(augmented)/New Plant Diseases Dataset(Augmented)\"\n",
    "train_dir = os.path.join(base_dir,\"train\")\n",
    "test_dir = os.path.join(base_dir,\"valid\")"
   ]
  },
  {
   "cell_type": "markdown",
   "id": "prime-american",
   "metadata": {
    "papermill": {
     "duration": 0.017863,
     "end_time": "2021-05-10T08:02:26.320451",
     "exception": false,
     "start_time": "2021-05-10T08:02:26.302588",
     "status": "completed"
    },
    "tags": []
   },
   "source": [
    "We make the following augmentations to the images:\n",
    "\n",
    "- `width_shift` and `height_shift` are ranges (as a fraction of total width or height) within which to randomly translate pictures vertically or horizontally\n",
    "- `rescale` is a value by which we will multiply the data before any other processing. Our original images consist in RGB coefficients in the 0-255, but such values would be too high for our models to process (given a typical learning rate), so we target values between 0 and 1 instead by scaling with a 1/255. factor.\n",
    "- `shear_range` is for randomly applying shearing transformations\n",
    "- `zoom_range` is for randomly zooming inside pictures\n",
    "- `fill_mode` is the strategy used for filling in newly created pixels, which can appear after a rotation or a width/height shift."
   ]
  },
  {
   "cell_type": "code",
   "execution_count": 5,
   "id": "south-bachelor",
   "metadata": {
    "execution": {
     "iopub.execute_input": "2021-05-10T08:02:26.363593Z",
     "iopub.status.busy": "2021-05-10T08:02:26.362546Z",
     "iopub.status.idle": "2021-05-10T08:02:26.366514Z",
     "shell.execute_reply": "2021-05-10T08:02:26.365971Z"
    },
    "papermill": {
     "duration": 0.027909,
     "end_time": "2021-05-10T08:02:26.366658",
     "exception": false,
     "start_time": "2021-05-10T08:02:26.338749",
     "status": "completed"
    },
    "tags": []
   },
   "outputs": [],
   "source": [
    "train_datagen = keras.preprocessing.image.ImageDataGenerator(rescale = 1/255.0,\n",
    "                                                             shear_range = 0.2,\n",
    "                                                             zoom_range = 0.2,\n",
    "                                                             width_shift_range = 0.2,\n",
    "                                                             height_shift_range = 0.2,\n",
    "                                                             fill_mode=\"nearest\")\n",
    "\n",
    "test_datagen = keras.preprocessing.image.ImageDataGenerator(rescale = 1/255.0)"
   ]
  },
  {
   "cell_type": "markdown",
   "id": "recognized-equality",
   "metadata": {
    "papermill": {
     "duration": 0.017897,
     "end_time": "2021-05-10T08:02:26.402526",
     "exception": false,
     "start_time": "2021-05-10T08:02:26.384629",
     "status": "completed"
    },
    "tags": []
   },
   "source": [
    "Let's prepare our data. We will use `.flow_from_directory()` to generate batches of image data (and their labels) directly from our images in their respective folders."
   ]
  },
  {
   "cell_type": "code",
   "execution_count": 6,
   "id": "everyday-religion",
   "metadata": {
    "execution": {
     "iopub.execute_input": "2021-05-10T08:02:26.444824Z",
     "iopub.status.busy": "2021-05-10T08:02:26.444207Z",
     "iopub.status.idle": "2021-05-10T08:03:45.636718Z",
     "shell.execute_reply": "2021-05-10T08:03:45.637856Z"
    },
    "papermill": {
     "duration": 79.217089,
     "end_time": "2021-05-10T08:03:45.638172",
     "exception": false,
     "start_time": "2021-05-10T08:02:26.421083",
     "status": "completed"
    },
    "tags": []
   },
   "outputs": [
    {
     "name": "stdout",
     "output_type": "stream",
     "text": [
      "Found 70295 images belonging to 38 classes.\n",
      "Found 17572 images belonging to 38 classes.\n"
     ]
    }
   ],
   "source": [
    "train_data = train_datagen.flow_from_directory(train_dir,\n",
    "                                               target_size = (image_size, image_size),\n",
    "                                               batch_size = batch_size,\n",
    "                                               class_mode = \"categorical\")\n",
    "\n",
    "test_data = test_datagen.flow_from_directory(test_dir,\n",
    "                                             target_size = (image_size, image_size),\n",
    "                                             batch_size = batch_size,\n",
    "                                             class_mode = \"categorical\")"
   ]
  },
  {
   "cell_type": "markdown",
   "id": "cultural-turkey",
   "metadata": {
    "papermill": {
     "duration": 0.020892,
     "end_time": "2021-05-10T08:03:45.681089",
     "exception": false,
     "start_time": "2021-05-10T08:03:45.660197",
     "status": "completed"
    },
    "tags": []
   },
   "source": [
    "## Create a classes index file\n",
    "\n",
    "We also want to know which class corresponds to which species and disease so we also create a `json` file which shows corresponding labels and class indices."
   ]
  },
  {
   "cell_type": "code",
   "execution_count": 7,
   "id": "amended-legislation",
   "metadata": {
    "execution": {
     "iopub.execute_input": "2021-05-10T08:03:45.725103Z",
     "iopub.status.busy": "2021-05-10T08:03:45.724350Z",
     "iopub.status.idle": "2021-05-10T08:03:45.728701Z",
     "shell.execute_reply": "2021-05-10T08:03:45.728055Z"
    },
    "papermill": {
     "duration": 0.028006,
     "end_time": "2021-05-10T08:03:45.728861",
     "exception": false,
     "start_time": "2021-05-10T08:03:45.700855",
     "status": "completed"
    },
    "tags": []
   },
   "outputs": [],
   "source": [
    "# categories = list(train_data.class_indices.keys())\n",
    "# print(train_data.class_indices)"
   ]
  },
  {
   "cell_type": "code",
   "execution_count": 8,
   "id": "pointed-inspiration",
   "metadata": {
    "execution": {
     "iopub.execute_input": "2021-05-10T08:03:45.770392Z",
     "iopub.status.busy": "2021-05-10T08:03:45.769579Z",
     "iopub.status.idle": "2021-05-10T08:03:45.773282Z",
     "shell.execute_reply": "2021-05-10T08:03:45.772778Z"
    },
    "papermill": {
     "duration": 0.025807,
     "end_time": "2021-05-10T08:03:45.773449",
     "exception": false,
     "start_time": "2021-05-10T08:03:45.747642",
     "status": "completed"
    },
    "tags": []
   },
   "outputs": [],
   "source": [
    "# import json\n",
    "# with open('class_indices.json','w') as f:\n",
    "#   json.dump(train_data.class_indices, f)\n",
    "\n",
    "# from IPython.display import FileLink\n",
    "# FileLink(r'class_indices.json')"
   ]
  },
  {
   "cell_type": "markdown",
   "id": "solar-schedule",
   "metadata": {
    "papermill": {
     "duration": 0.01867,
     "end_time": "2021-05-10T08:03:45.810510",
     "exception": false,
     "start_time": "2021-05-10T08:03:45.791840",
     "status": "completed"
    },
    "tags": []
   },
   "source": [
    "## Training\n",
    "\n",
    "We first get the base MobileNet model without including the top layers since we want to use it for 38 classes and us the pre-trained weights for ImageNet."
   ]
  },
  {
   "cell_type": "code",
   "execution_count": 9,
   "id": "perfect-attention",
   "metadata": {
    "execution": {
     "iopub.execute_input": "2021-05-10T08:03:45.856900Z",
     "iopub.status.busy": "2021-05-10T08:03:45.856265Z",
     "iopub.status.idle": "2021-05-10T08:03:56.739639Z",
     "shell.execute_reply": "2021-05-10T08:03:56.738998Z"
    },
    "papermill": {
     "duration": 10.910323,
     "end_time": "2021-05-10T08:03:56.739791",
     "exception": false,
     "start_time": "2021-05-10T08:03:45.829468",
     "status": "completed"
    },
    "tags": []
   },
   "outputs": [
    {
     "name": "stdout",
     "output_type": "stream",
     "text": [
      "Downloading data from https://storage.googleapis.com/tensorflow/keras-applications/densenet/densenet201_weights_tf_dim_ordering_tf_kernels_notop.h5\n",
      "74842112/74836368 [==============================] - 1s 0us/step\n"
     ]
    }
   ],
   "source": [
    "base_model = tf.keras.applications.DenseNet201(weights = \"imagenet\",\n",
    "                                             include_top = False,\n",
    "                                             input_shape = input_shape)\n",
    "\n",
    "base_model.trainable = False"
   ]
  },
  {
   "cell_type": "markdown",
   "id": "hawaiian-assets",
   "metadata": {
    "papermill": {
     "duration": 0.025014,
     "end_time": "2021-05-10T08:03:56.791542",
     "exception": false,
     "start_time": "2021-05-10T08:03:56.766528",
     "status": "completed"
    },
    "tags": []
   },
   "source": [
    "We now create a small upstream model on top of the MobileNet using the functional API"
   ]
  },
  {
   "cell_type": "code",
   "execution_count": 10,
   "id": "american-claim",
   "metadata": {
    "execution": {
     "iopub.execute_input": "2021-05-10T08:03:56.853450Z",
     "iopub.status.busy": "2021-05-10T08:03:56.851895Z",
     "iopub.status.idle": "2021-05-10T08:03:58.495641Z",
     "shell.execute_reply": "2021-05-10T08:03:58.494867Z"
    },
    "papermill": {
     "duration": 1.678773,
     "end_time": "2021-05-10T08:03:58.495789",
     "exception": false,
     "start_time": "2021-05-10T08:03:56.817016",
     "status": "completed"
    },
    "tags": []
   },
   "outputs": [],
   "source": [
    "inputs = keras.Input(shape = input_shape)\n",
    "\n",
    "x = base_model(inputs, training = False)\n",
    "x = tf.keras.layers.GlobalAveragePooling2D()(x)\n",
    "x = tf.keras.layers.Dense(38, \n",
    "                          activation=\"softmax\")(x)\n",
    "\n",
    "model = keras.Model(inputs = inputs, \n",
    "                    outputs = x, \n",
    "                    name=\"LeafDisease_MobileNet\")"
   ]
  },
  {
   "cell_type": "markdown",
   "id": "angry-joyce",
   "metadata": {
    "papermill": {
     "duration": 0.024803,
     "end_time": "2021-05-10T08:03:58.546303",
     "exception": false,
     "start_time": "2021-05-10T08:03:58.521500",
     "status": "completed"
    },
    "tags": []
   },
   "source": [
    "In our multiple experiments we found out Adam optimizer to work really well with it's default learning rate, $\\beta_1$, $\\beta_2$ and $\\epsilon$ values"
   ]
  },
  {
   "cell_type": "code",
   "execution_count": 11,
   "id": "iraqi-lambda",
   "metadata": {
    "execution": {
     "iopub.execute_input": "2021-05-10T08:03:58.629240Z",
     "iopub.status.busy": "2021-05-10T08:03:58.618898Z",
     "iopub.status.idle": "2021-05-10T08:03:58.655152Z",
     "shell.execute_reply": "2021-05-10T08:03:58.654629Z"
    },
    "papermill": {
     "duration": 0.073094,
     "end_time": "2021-05-10T08:03:58.655306",
     "exception": false,
     "start_time": "2021-05-10T08:03:58.582212",
     "status": "completed"
    },
    "tags": []
   },
   "outputs": [],
   "source": [
    "optimizer = tf.keras.optimizers.Adam() #lr=0.05 --- Mention LR here, default - 0.01\n",
    "\n",
    "model.compile(optimizer = optimizer,\n",
    "              loss = tf.keras.losses.CategoricalCrossentropy(from_logits = True),\n",
    "              metrics=[keras.metrics.CategoricalAccuracy(), \n",
    "                       'accuracy'])"
   ]
  },
  {
   "cell_type": "code",
   "execution_count": 12,
   "id": "institutional-substance",
   "metadata": {
    "execution": {
     "iopub.execute_input": "2021-05-10T08:03:58.720177Z",
     "iopub.status.busy": "2021-05-10T08:03:58.719305Z",
     "iopub.status.idle": "2021-05-10T13:15:26.573811Z",
     "shell.execute_reply": "2021-05-10T13:15:26.574409Z"
    },
    "papermill": {
     "duration": 18687.890976,
     "end_time": "2021-05-10T13:15:26.574620",
     "exception": false,
     "start_time": "2021-05-10T08:03:58.683644",
     "status": "completed"
    },
    "tags": []
   },
   "outputs": [
    {
     "name": "stdout",
     "output_type": "stream",
     "text": [
      "Epoch 1/100\n",
      "150/150 [==============================] - 288s 2s/step - loss: 2.5885 - categorical_accuracy: 0.3762 - accuracy: 0.3762 - val_loss: 0.8126 - val_categorical_accuracy: 0.8402 - val_accuracy: 0.8402\n",
      "Epoch 2/100\n",
      "150/150 [==============================] - 250s 2s/step - loss: 0.8255 - categorical_accuracy: 0.8300 - accuracy: 0.8300 - val_loss: 0.5025 - val_categorical_accuracy: 0.8875 - val_accuracy: 0.8875\n",
      "Epoch 3/100\n",
      "150/150 [==============================] - 237s 2s/step - loss: 0.5452 - categorical_accuracy: 0.8813 - accuracy: 0.8813 - val_loss: 0.3764 - val_categorical_accuracy: 0.9084 - val_accuracy: 0.9084\n",
      "Epoch 4/100\n",
      "150/150 [==============================] - 224s 1s/step - loss: 0.4289 - categorical_accuracy: 0.8995 - accuracy: 0.8995 - val_loss: 0.3153 - val_categorical_accuracy: 0.9248 - val_accuracy: 0.9248\n",
      "Epoch 5/100\n",
      "150/150 [==============================] - 217s 1s/step - loss: 0.3697 - categorical_accuracy: 0.9120 - accuracy: 0.9120 - val_loss: 0.2934 - val_categorical_accuracy: 0.9252 - val_accuracy: 0.9252\n",
      "Epoch 6/100\n",
      "150/150 [==============================] - 208s 1s/step - loss: 0.2952 - categorical_accuracy: 0.9328 - accuracy: 0.9328 - val_loss: 0.2632 - val_categorical_accuracy: 0.9306 - val_accuracy: 0.9306\n",
      "Epoch 7/100\n",
      "150/150 [==============================] - 203s 1s/step - loss: 0.2826 - categorical_accuracy: 0.9312 - accuracy: 0.9312 - val_loss: 0.2459 - val_categorical_accuracy: 0.9334 - val_accuracy: 0.9334\n",
      "Epoch 8/100\n",
      "150/150 [==============================] - 200s 1s/step - loss: 0.2480 - categorical_accuracy: 0.9386 - accuracy: 0.9386 - val_loss: 0.2270 - val_categorical_accuracy: 0.9367 - val_accuracy: 0.9367\n",
      "Epoch 9/100\n",
      "150/150 [==============================] - 194s 1s/step - loss: 0.2492 - categorical_accuracy: 0.9352 - accuracy: 0.9352 - val_loss: 0.2055 - val_categorical_accuracy: 0.9448 - val_accuracy: 0.9448\n",
      "Epoch 10/100\n",
      "150/150 [==============================] - 189s 1s/step - loss: 0.2209 - categorical_accuracy: 0.9428 - accuracy: 0.9428 - val_loss: 0.2041 - val_categorical_accuracy: 0.9414 - val_accuracy: 0.9414\n",
      "Epoch 11/100\n",
      "150/150 [==============================] - 186s 1s/step - loss: 0.2188 - categorical_accuracy: 0.9439 - accuracy: 0.9439 - val_loss: 0.1833 - val_categorical_accuracy: 0.9455 - val_accuracy: 0.9455\n",
      "Epoch 12/100\n",
      "150/150 [==============================] - 190s 1s/step - loss: 0.2099 - categorical_accuracy: 0.9449 - accuracy: 0.9449 - val_loss: 0.1679 - val_categorical_accuracy: 0.9505 - val_accuracy: 0.9505\n",
      "Epoch 13/100\n",
      "150/150 [==============================] - 189s 1s/step - loss: 0.1897 - categorical_accuracy: 0.9490 - accuracy: 0.9490 - val_loss: 0.1603 - val_categorical_accuracy: 0.9553 - val_accuracy: 0.9553\n",
      "Epoch 14/100\n",
      "150/150 [==============================] - 190s 1s/step - loss: 0.1893 - categorical_accuracy: 0.9504 - accuracy: 0.9504 - val_loss: 0.1509 - val_categorical_accuracy: 0.9573 - val_accuracy: 0.9573\n",
      "Epoch 15/100\n",
      "150/150 [==============================] - 189s 1s/step - loss: 0.1788 - categorical_accuracy: 0.9493 - accuracy: 0.9493 - val_loss: 0.1497 - val_categorical_accuracy: 0.9558 - val_accuracy: 0.9558\n",
      "Epoch 16/100\n",
      "150/150 [==============================] - 186s 1s/step - loss: 0.1709 - categorical_accuracy: 0.9526 - accuracy: 0.9526 - val_loss: 0.1500 - val_categorical_accuracy: 0.9555 - val_accuracy: 0.9555\n",
      "Epoch 17/100\n",
      "150/150 [==============================] - 186s 1s/step - loss: 0.1546 - categorical_accuracy: 0.9581 - accuracy: 0.9581 - val_loss: 0.1643 - val_categorical_accuracy: 0.9488 - val_accuracy: 0.9488\n",
      "Epoch 18/100\n",
      "150/150 [==============================] - 183s 1s/step - loss: 0.1630 - categorical_accuracy: 0.9538 - accuracy: 0.9538 - val_loss: 0.1491 - val_categorical_accuracy: 0.9581 - val_accuracy: 0.9581\n",
      "Epoch 19/100\n",
      "150/150 [==============================] - 184s 1s/step - loss: 0.1511 - categorical_accuracy: 0.9585 - accuracy: 0.9585 - val_loss: 0.1627 - val_categorical_accuracy: 0.9494 - val_accuracy: 0.9494\n",
      "Epoch 20/100\n",
      "150/150 [==============================] - 183s 1s/step - loss: 0.1548 - categorical_accuracy: 0.9559 - accuracy: 0.9559 - val_loss: 0.1410 - val_categorical_accuracy: 0.9570 - val_accuracy: 0.9570\n",
      "Epoch 21/100\n",
      "150/150 [==============================] - 181s 1s/step - loss: 0.1398 - categorical_accuracy: 0.9618 - accuracy: 0.9618 - val_loss: 0.1421 - val_categorical_accuracy: 0.9581 - val_accuracy: 0.9581\n",
      "Epoch 22/100\n",
      "150/150 [==============================] - 184s 1s/step - loss: 0.1399 - categorical_accuracy: 0.9581 - accuracy: 0.9581 - val_loss: 0.1316 - val_categorical_accuracy: 0.9609 - val_accuracy: 0.9609\n",
      "Epoch 23/100\n",
      "150/150 [==============================] - 185s 1s/step - loss: 0.1384 - categorical_accuracy: 0.9608 - accuracy: 0.9608 - val_loss: 0.1260 - val_categorical_accuracy: 0.9625 - val_accuracy: 0.9625\n",
      "Epoch 24/100\n",
      "150/150 [==============================] - 185s 1s/step - loss: 0.1328 - categorical_accuracy: 0.9622 - accuracy: 0.9622 - val_loss: 0.1294 - val_categorical_accuracy: 0.9613 - val_accuracy: 0.9613\n",
      "Epoch 25/100\n",
      "150/150 [==============================] - 185s 1s/step - loss: 0.1243 - categorical_accuracy: 0.9670 - accuracy: 0.9670 - val_loss: 0.1196 - val_categorical_accuracy: 0.9627 - val_accuracy: 0.9627\n",
      "Epoch 26/100\n",
      "150/150 [==============================] - 182s 1s/step - loss: 0.1304 - categorical_accuracy: 0.9621 - accuracy: 0.9621 - val_loss: 0.1265 - val_categorical_accuracy: 0.9594 - val_accuracy: 0.9594\n",
      "Epoch 27/100\n",
      "150/150 [==============================] - 179s 1s/step - loss: 0.1178 - categorical_accuracy: 0.9676 - accuracy: 0.9676 - val_loss: 0.1191 - val_categorical_accuracy: 0.9630 - val_accuracy: 0.9630\n",
      "Epoch 28/100\n",
      "150/150 [==============================] - 179s 1s/step - loss: 0.1312 - categorical_accuracy: 0.9616 - accuracy: 0.9616 - val_loss: 0.1225 - val_categorical_accuracy: 0.9634 - val_accuracy: 0.9634\n",
      "Epoch 29/100\n",
      "150/150 [==============================] - 179s 1s/step - loss: 0.1281 - categorical_accuracy: 0.9613 - accuracy: 0.9613 - val_loss: 0.1128 - val_categorical_accuracy: 0.9672 - val_accuracy: 0.9672\n",
      "Epoch 30/100\n",
      "150/150 [==============================] - 180s 1s/step - loss: 0.1189 - categorical_accuracy: 0.9658 - accuracy: 0.9658 - val_loss: 0.1175 - val_categorical_accuracy: 0.9631 - val_accuracy: 0.9631\n",
      "Epoch 31/100\n",
      "150/150 [==============================] - 179s 1s/step - loss: 0.1175 - categorical_accuracy: 0.9671 - accuracy: 0.9671 - val_loss: 0.1289 - val_categorical_accuracy: 0.9563 - val_accuracy: 0.9563\n",
      "Epoch 32/100\n",
      "150/150 [==============================] - 178s 1s/step - loss: 0.1158 - categorical_accuracy: 0.9653 - accuracy: 0.9653 - val_loss: 0.1161 - val_categorical_accuracy: 0.9650 - val_accuracy: 0.9650\n",
      "Epoch 33/100\n",
      "150/150 [==============================] - 178s 1s/step - loss: 0.1142 - categorical_accuracy: 0.9667 - accuracy: 0.9667 - val_loss: 0.1150 - val_categorical_accuracy: 0.9645 - val_accuracy: 0.9645\n",
      "Epoch 34/100\n",
      "150/150 [==============================] - 180s 1s/step - loss: 0.1189 - categorical_accuracy: 0.9653 - accuracy: 0.9653 - val_loss: 0.1093 - val_categorical_accuracy: 0.9658 - val_accuracy: 0.9658\n",
      "Epoch 35/100\n",
      "150/150 [==============================] - 179s 1s/step - loss: 0.1133 - categorical_accuracy: 0.9692 - accuracy: 0.9692 - val_loss: 0.1199 - val_categorical_accuracy: 0.9613 - val_accuracy: 0.9613\n",
      "Epoch 36/100\n",
      "150/150 [==============================] - 179s 1s/step - loss: 0.1072 - categorical_accuracy: 0.9686 - accuracy: 0.9686 - val_loss: 0.0973 - val_categorical_accuracy: 0.9678 - val_accuracy: 0.9678\n",
      "Epoch 37/100\n",
      "150/150 [==============================] - 179s 1s/step - loss: 0.1126 - categorical_accuracy: 0.9671 - accuracy: 0.9671 - val_loss: 0.1055 - val_categorical_accuracy: 0.9667 - val_accuracy: 0.9667\n",
      "Epoch 38/100\n",
      "150/150 [==============================] - 180s 1s/step - loss: 0.0975 - categorical_accuracy: 0.9702 - accuracy: 0.9702 - val_loss: 0.1028 - val_categorical_accuracy: 0.9688 - val_accuracy: 0.9688\n",
      "Epoch 39/100\n",
      "150/150 [==============================] - 178s 1s/step - loss: 0.1142 - categorical_accuracy: 0.9666 - accuracy: 0.9666 - val_loss: 0.1156 - val_categorical_accuracy: 0.9634 - val_accuracy: 0.9634\n",
      "Epoch 40/100\n",
      "150/150 [==============================] - 179s 1s/step - loss: 0.0935 - categorical_accuracy: 0.9729 - accuracy: 0.9729 - val_loss: 0.1083 - val_categorical_accuracy: 0.9653 - val_accuracy: 0.9653\n",
      "Epoch 41/100\n",
      "150/150 [==============================] - 181s 1s/step - loss: 0.1039 - categorical_accuracy: 0.9698 - accuracy: 0.9698 - val_loss: 0.1064 - val_categorical_accuracy: 0.9678 - val_accuracy: 0.9678\n",
      "Epoch 42/100\n",
      "150/150 [==============================] - 181s 1s/step - loss: 0.1069 - categorical_accuracy: 0.9684 - accuracy: 0.9684 - val_loss: 0.1130 - val_categorical_accuracy: 0.9644 - val_accuracy: 0.9644\n",
      "Epoch 43/100\n",
      "150/150 [==============================] - 181s 1s/step - loss: 0.0974 - categorical_accuracy: 0.9706 - accuracy: 0.9706 - val_loss: 0.1113 - val_categorical_accuracy: 0.9622 - val_accuracy: 0.9622\n",
      "Epoch 44/100\n",
      "150/150 [==============================] - 182s 1s/step - loss: 0.1021 - categorical_accuracy: 0.9698 - accuracy: 0.9698 - val_loss: 0.1196 - val_categorical_accuracy: 0.9611 - val_accuracy: 0.9611\n",
      "Epoch 45/100\n",
      "150/150 [==============================] - 183s 1s/step - loss: 0.0935 - categorical_accuracy: 0.9701 - accuracy: 0.9701 - val_loss: 0.0964 - val_categorical_accuracy: 0.9697 - val_accuracy: 0.9697\n",
      "Epoch 46/100\n",
      "150/150 [==============================] - 181s 1s/step - loss: 0.0968 - categorical_accuracy: 0.9725 - accuracy: 0.9725 - val_loss: 0.0991 - val_categorical_accuracy: 0.9667 - val_accuracy: 0.9667\n",
      "Epoch 47/100\n",
      "150/150 [==============================] - 182s 1s/step - loss: 0.1068 - categorical_accuracy: 0.9660 - accuracy: 0.9660 - val_loss: 0.1226 - val_categorical_accuracy: 0.9578 - val_accuracy: 0.9578\n",
      "Epoch 48/100\n",
      "150/150 [==============================] - 182s 1s/step - loss: 0.0984 - categorical_accuracy: 0.9697 - accuracy: 0.9697 - val_loss: 0.0973 - val_categorical_accuracy: 0.9656 - val_accuracy: 0.9656\n",
      "Epoch 49/100\n",
      "150/150 [==============================] - 184s 1s/step - loss: 0.0931 - categorical_accuracy: 0.9737 - accuracy: 0.9737 - val_loss: 0.1270 - val_categorical_accuracy: 0.9567 - val_accuracy: 0.9567\n",
      "Epoch 50/100\n",
      "150/150 [==============================] - 185s 1s/step - loss: 0.0947 - categorical_accuracy: 0.9673 - accuracy: 0.9673 - val_loss: 0.1208 - val_categorical_accuracy: 0.9625 - val_accuracy: 0.9625\n",
      "Epoch 51/100\n",
      "150/150 [==============================] - 182s 1s/step - loss: 0.0890 - categorical_accuracy: 0.9758 - accuracy: 0.9758 - val_loss: 0.0980 - val_categorical_accuracy: 0.9659 - val_accuracy: 0.9659\n",
      "Epoch 52/100\n",
      "150/150 [==============================] - 183s 1s/step - loss: 0.0920 - categorical_accuracy: 0.9713 - accuracy: 0.9713 - val_loss: 0.0854 - val_categorical_accuracy: 0.9702 - val_accuracy: 0.9702\n",
      "Epoch 53/100\n",
      "150/150 [==============================] - 183s 1s/step - loss: 0.0883 - categorical_accuracy: 0.9721 - accuracy: 0.9721 - val_loss: 0.1052 - val_categorical_accuracy: 0.9639 - val_accuracy: 0.9639\n",
      "Epoch 54/100\n",
      "150/150 [==============================] - 181s 1s/step - loss: 0.0846 - categorical_accuracy: 0.9749 - accuracy: 0.9749 - val_loss: 0.1013 - val_categorical_accuracy: 0.9652 - val_accuracy: 0.9652\n",
      "Epoch 55/100\n",
      "150/150 [==============================] - 182s 1s/step - loss: 0.0860 - categorical_accuracy: 0.9737 - accuracy: 0.9737 - val_loss: 0.0971 - val_categorical_accuracy: 0.9677 - val_accuracy: 0.9677\n",
      "Epoch 56/100\n",
      "150/150 [==============================] - 182s 1s/step - loss: 0.0873 - categorical_accuracy: 0.9743 - accuracy: 0.9743 - val_loss: 0.0842 - val_categorical_accuracy: 0.9706 - val_accuracy: 0.9706\n",
      "Epoch 57/100\n",
      "150/150 [==============================] - 184s 1s/step - loss: 0.0897 - categorical_accuracy: 0.9729 - accuracy: 0.9729 - val_loss: 0.0916 - val_categorical_accuracy: 0.9675 - val_accuracy: 0.9675\n",
      "Epoch 58/100\n",
      "150/150 [==============================] - 184s 1s/step - loss: 0.0892 - categorical_accuracy: 0.9711 - accuracy: 0.9711 - val_loss: 0.1062 - val_categorical_accuracy: 0.9672 - val_accuracy: 0.9672\n",
      "Epoch 59/100\n",
      "150/150 [==============================] - 186s 1s/step - loss: 0.0904 - categorical_accuracy: 0.9740 - accuracy: 0.9740 - val_loss: 0.0850 - val_categorical_accuracy: 0.9725 - val_accuracy: 0.9725\n",
      "Epoch 60/100\n",
      "150/150 [==============================] - 186s 1s/step - loss: 0.0902 - categorical_accuracy: 0.9694 - accuracy: 0.9694 - val_loss: 0.0830 - val_categorical_accuracy: 0.9730 - val_accuracy: 0.9730\n",
      "Epoch 61/100\n",
      "150/150 [==============================] - 186s 1s/step - loss: 0.0819 - categorical_accuracy: 0.9751 - accuracy: 0.9751 - val_loss: 0.1040 - val_categorical_accuracy: 0.9653 - val_accuracy: 0.9653\n",
      "Epoch 62/100\n",
      "150/150 [==============================] - 189s 1s/step - loss: 0.0809 - categorical_accuracy: 0.9742 - accuracy: 0.9742 - val_loss: 0.0853 - val_categorical_accuracy: 0.9722 - val_accuracy: 0.9722\n",
      "Epoch 63/100\n",
      "150/150 [==============================] - 187s 1s/step - loss: 0.0921 - categorical_accuracy: 0.9687 - accuracy: 0.9687 - val_loss: 0.1011 - val_categorical_accuracy: 0.9694 - val_accuracy: 0.9694\n",
      "Epoch 64/100\n",
      "150/150 [==============================] - 187s 1s/step - loss: 0.0871 - categorical_accuracy: 0.9698 - accuracy: 0.9698 - val_loss: 0.0955 - val_categorical_accuracy: 0.9678 - val_accuracy: 0.9678\n",
      "Epoch 65/100\n",
      "150/150 [==============================] - 187s 1s/step - loss: 0.0855 - categorical_accuracy: 0.9724 - accuracy: 0.9724 - val_loss: 0.0935 - val_categorical_accuracy: 0.9697 - val_accuracy: 0.9697\n",
      "Epoch 66/100\n",
      "150/150 [==============================] - 187s 1s/step - loss: 0.0905 - categorical_accuracy: 0.9712 - accuracy: 0.9712 - val_loss: 0.0979 - val_categorical_accuracy: 0.9683 - val_accuracy: 0.9683\n",
      "Epoch 67/100\n",
      "150/150 [==============================] - 187s 1s/step - loss: 0.0823 - categorical_accuracy: 0.9744 - accuracy: 0.9744 - val_loss: 0.0852 - val_categorical_accuracy: 0.9727 - val_accuracy: 0.9727\n",
      "Epoch 68/100\n",
      "150/150 [==============================] - 186s 1s/step - loss: 0.0758 - categorical_accuracy: 0.9771 - accuracy: 0.9771 - val_loss: 0.1014 - val_categorical_accuracy: 0.9658 - val_accuracy: 0.9658\n",
      "Epoch 69/100\n",
      "150/150 [==============================] - 187s 1s/step - loss: 0.0782 - categorical_accuracy: 0.9744 - accuracy: 0.9744 - val_loss: 0.1054 - val_categorical_accuracy: 0.9655 - val_accuracy: 0.9655\n",
      "Epoch 70/100\n",
      "150/150 [==============================] - 186s 1s/step - loss: 0.0762 - categorical_accuracy: 0.9773 - accuracy: 0.9773 - val_loss: 0.0891 - val_categorical_accuracy: 0.9703 - val_accuracy: 0.9703\n",
      "Epoch 71/100\n",
      "150/150 [==============================] - 187s 1s/step - loss: 0.0773 - categorical_accuracy: 0.9752 - accuracy: 0.9752 - val_loss: 0.0968 - val_categorical_accuracy: 0.9691 - val_accuracy: 0.9691\n",
      "Epoch 72/100\n",
      "150/150 [==============================] - 188s 1s/step - loss: 0.0757 - categorical_accuracy: 0.9748 - accuracy: 0.9748 - val_loss: 0.0928 - val_categorical_accuracy: 0.9705 - val_accuracy: 0.9705\n",
      "Epoch 73/100\n",
      "150/150 [==============================] - 184s 1s/step - loss: 0.0790 - categorical_accuracy: 0.9762 - accuracy: 0.9762 - val_loss: 0.0950 - val_categorical_accuracy: 0.9684 - val_accuracy: 0.9684\n",
      "Epoch 74/100\n",
      "150/150 [==============================] - 178s 1s/step - loss: 0.0690 - categorical_accuracy: 0.9807 - accuracy: 0.9807 - val_loss: 0.0876 - val_categorical_accuracy: 0.9700 - val_accuracy: 0.9700\n",
      "Epoch 75/100\n",
      "150/150 [==============================] - 182s 1s/step - loss: 0.0690 - categorical_accuracy: 0.9794 - accuracy: 0.9794 - val_loss: 0.0879 - val_categorical_accuracy: 0.9708 - val_accuracy: 0.9708\n",
      "Epoch 76/100\n",
      "150/150 [==============================] - 177s 1s/step - loss: 0.0727 - categorical_accuracy: 0.9760 - accuracy: 0.9760 - val_loss: 0.0851 - val_categorical_accuracy: 0.9712 - val_accuracy: 0.9712\n",
      "Epoch 77/100\n",
      "150/150 [==============================] - 180s 1s/step - loss: 0.0779 - categorical_accuracy: 0.9759 - accuracy: 0.9759 - val_loss: 0.0888 - val_categorical_accuracy: 0.9702 - val_accuracy: 0.9702\n",
      "Epoch 78/100\n",
      "150/150 [==============================] - 176s 1s/step - loss: 0.0748 - categorical_accuracy: 0.9761 - accuracy: 0.9761 - val_loss: 0.0895 - val_categorical_accuracy: 0.9711 - val_accuracy: 0.9711\n",
      "Epoch 79/100\n",
      "150/150 [==============================] - 179s 1s/step - loss: 0.0720 - categorical_accuracy: 0.9772 - accuracy: 0.9772 - val_loss: 0.0861 - val_categorical_accuracy: 0.9725 - val_accuracy: 0.9725\n",
      "Epoch 80/100\n",
      "150/150 [==============================] - 179s 1s/step - loss: 0.0771 - categorical_accuracy: 0.9743 - accuracy: 0.9743 - val_loss: 0.0901 - val_categorical_accuracy: 0.9698 - val_accuracy: 0.9698\n",
      "Epoch 81/100\n",
      "150/150 [==============================] - 184s 1s/step - loss: 0.0757 - categorical_accuracy: 0.9750 - accuracy: 0.9750 - val_loss: 0.0851 - val_categorical_accuracy: 0.9733 - val_accuracy: 0.9733\n",
      "Epoch 82/100\n",
      "150/150 [==============================] - 181s 1s/step - loss: 0.0720 - categorical_accuracy: 0.9787 - accuracy: 0.9787 - val_loss: 0.0965 - val_categorical_accuracy: 0.9703 - val_accuracy: 0.9703\n",
      "Epoch 83/100\n",
      "150/150 [==============================] - 186s 1s/step - loss: 0.0731 - categorical_accuracy: 0.9767 - accuracy: 0.9767 - val_loss: 0.0865 - val_categorical_accuracy: 0.9728 - val_accuracy: 0.9728\n",
      "Epoch 84/100\n",
      "150/150 [==============================] - 187s 1s/step - loss: 0.0685 - categorical_accuracy: 0.9789 - accuracy: 0.9789 - val_loss: 0.0768 - val_categorical_accuracy: 0.9747 - val_accuracy: 0.9747\n",
      "Epoch 85/100\n",
      "150/150 [==============================] - 184s 1s/step - loss: 0.0768 - categorical_accuracy: 0.9753 - accuracy: 0.9753 - val_loss: 0.0872 - val_categorical_accuracy: 0.9706 - val_accuracy: 0.9706\n",
      "Epoch 86/100\n",
      "150/150 [==============================] - 187s 1s/step - loss: 0.0835 - categorical_accuracy: 0.9726 - accuracy: 0.9726 - val_loss: 0.0906 - val_categorical_accuracy: 0.9695 - val_accuracy: 0.9695\n",
      "Epoch 87/100\n",
      "150/150 [==============================] - 187s 1s/step - loss: 0.0704 - categorical_accuracy: 0.9789 - accuracy: 0.9789 - val_loss: 0.0834 - val_categorical_accuracy: 0.9719 - val_accuracy: 0.9719\n",
      "Epoch 88/100\n",
      "150/150 [==============================] - 182s 1s/step - loss: 0.0695 - categorical_accuracy: 0.9778 - accuracy: 0.9778 - val_loss: 0.0800 - val_categorical_accuracy: 0.9742 - val_accuracy: 0.9742\n",
      "Epoch 89/100\n",
      "150/150 [==============================] - 186s 1s/step - loss: 0.0777 - categorical_accuracy: 0.9743 - accuracy: 0.9743 - val_loss: 0.0860 - val_categorical_accuracy: 0.9727 - val_accuracy: 0.9727\n",
      "Epoch 90/100\n",
      "150/150 [==============================] - 183s 1s/step - loss: 0.0659 - categorical_accuracy: 0.9794 - accuracy: 0.9794 - val_loss: 0.0790 - val_categorical_accuracy: 0.9781 - val_accuracy: 0.9781\n",
      "Epoch 91/100\n",
      "150/150 [==============================] - 185s 1s/step - loss: 0.0674 - categorical_accuracy: 0.9787 - accuracy: 0.9787 - val_loss: 0.0842 - val_categorical_accuracy: 0.9730 - val_accuracy: 0.9730\n",
      "Epoch 92/100\n",
      "150/150 [==============================] - 181s 1s/step - loss: 0.0816 - categorical_accuracy: 0.9707 - accuracy: 0.9707 - val_loss: 0.0935 - val_categorical_accuracy: 0.9694 - val_accuracy: 0.9694\n",
      "Epoch 93/100\n",
      "150/150 [==============================] - 183s 1s/step - loss: 0.0668 - categorical_accuracy: 0.9770 - accuracy: 0.9770 - val_loss: 0.0900 - val_categorical_accuracy: 0.9709 - val_accuracy: 0.9709\n",
      "Epoch 94/100\n",
      "150/150 [==============================] - 178s 1s/step - loss: 0.0834 - categorical_accuracy: 0.9725 - accuracy: 0.9725 - val_loss: 0.0879 - val_categorical_accuracy: 0.9700 - val_accuracy: 0.9700\n",
      "Epoch 95/100\n",
      "150/150 [==============================] - 181s 1s/step - loss: 0.0781 - categorical_accuracy: 0.9739 - accuracy: 0.9739 - val_loss: 0.0876 - val_categorical_accuracy: 0.9686 - val_accuracy: 0.9686\n",
      "Epoch 96/100\n",
      "150/150 [==============================] - 178s 1s/step - loss: 0.0697 - categorical_accuracy: 0.9782 - accuracy: 0.9782 - val_loss: 0.0870 - val_categorical_accuracy: 0.9727 - val_accuracy: 0.9727\n",
      "Epoch 97/100\n",
      "150/150 [==============================] - 184s 1s/step - loss: 0.0604 - categorical_accuracy: 0.9824 - accuracy: 0.9824 - val_loss: 0.0759 - val_categorical_accuracy: 0.9747 - val_accuracy: 0.9747\n",
      "Epoch 98/100\n",
      "150/150 [==============================] - 179s 1s/step - loss: 0.0645 - categorical_accuracy: 0.9784 - accuracy: 0.9784 - val_loss: 0.0854 - val_categorical_accuracy: 0.9734 - val_accuracy: 0.9734\n",
      "Epoch 99/100\n",
      "150/150 [==============================] - 183s 1s/step - loss: 0.0713 - categorical_accuracy: 0.9770 - accuracy: 0.9770 - val_loss: 0.0747 - val_categorical_accuracy: 0.9736 - val_accuracy: 0.9736\n",
      "Epoch 100/100\n",
      "150/150 [==============================] - 179s 1s/step - loss: 0.0601 - categorical_accuracy: 0.9796 - accuracy: 0.9796 - val_loss: 0.0806 - val_categorical_accuracy: 0.9712 - val_accuracy: 0.9712\n"
     ]
    }
   ],
   "source": [
    "history = model.fit(train_data,\n",
    "                    validation_data=test_data,\n",
    "                    epochs=epochs,\n",
    "                    steps_per_epoch=150,\n",
    "                    validation_steps=100)"
   ]
  },
  {
   "cell_type": "markdown",
   "id": "thermal-enterprise",
   "metadata": {
    "papermill": {
     "duration": 5.292257,
     "end_time": "2021-05-10T13:15:38.022019",
     "exception": false,
     "start_time": "2021-05-10T13:15:32.729762",
     "status": "completed"
    },
    "tags": []
   },
   "source": [
    "## Review the training process"
   ]
  },
  {
   "cell_type": "code",
   "execution_count": 13,
   "id": "metropolitan-flour",
   "metadata": {
    "execution": {
     "iopub.execute_input": "2021-05-10T13:15:49.104834Z",
     "iopub.status.busy": "2021-05-10T13:15:49.103815Z",
     "iopub.status.idle": "2021-05-10T13:15:49.314815Z",
     "shell.execute_reply": "2021-05-10T13:15:49.315398Z"
    },
    "papermill": {
     "duration": 5.551862,
     "end_time": "2021-05-10T13:15:49.315568",
     "exception": false,
     "start_time": "2021-05-10T13:15:43.763706",
     "status": "completed"
    },
    "tags": []
   },
   "outputs": [
    {
     "data": {
      "text/plain": [
       "<matplotlib.legend.Legend at 0x7f78cc601c90>"
      ]
     },
     "execution_count": 13,
     "metadata": {},
     "output_type": "execute_result"
    },
    {
     "data": {
      "image/png": "[encoded data removed]",
      "text/plain": [
       "<Figure size 720x432 with 1 Axes>"
      ]
     },
     "metadata": {
      "needs_background": "light"
     },
     "output_type": "display_data"
    }
   ],
   "source": [
    "loss = history.history['loss']\n",
    "val_loss = history.history['val_loss']\n",
    "\n",
    "epochs = range(len(loss))\n",
    "\n",
    "fig = plt.figure(figsize=(10,6))\n",
    "plt.plot(epochs,loss,c=\"red\",label=\"Training\")\n",
    "plt.plot(epochs,val_loss,c=\"blue\",label=\"Validation\")\n",
    "plt.xlabel(\"Epochs\")\n",
    "plt.ylabel(\"Loss\")\n",
    "plt.legend()"
   ]
  },
  {
   "cell_type": "code",
   "execution_count": 14,
   "id": "tutorial-tourist",
   "metadata": {
    "execution": {
     "iopub.execute_input": "2021-05-10T13:16:00.161950Z",
     "iopub.status.busy": "2021-05-10T13:16:00.156577Z",
     "iopub.status.idle": "2021-05-10T13:16:00.377311Z",
     "shell.execute_reply": "2021-05-10T13:16:00.378265Z"
    },
    "papermill": {
     "duration": 5.482354,
     "end_time": "2021-05-10T13:16:00.378587",
     "exception": false,
     "start_time": "2021-05-10T13:15:54.896233",
     "status": "completed"
    },
    "tags": []
   },
   "outputs": [
    {
     "data": {
      "text/plain": [
       "<matplotlib.legend.Legend at 0x7f78cccd6b50>"
      ]
     },
     "execution_count": 14,
     "metadata": {},
     "output_type": "execute_result"
    },
    {
     "data": {
      "image/png": "[encoded data removed]",
      "text/plain": [
       "<Figure size 720x432 with 1 Axes>"
      ]
     },
     "metadata": {
      "needs_background": "light"
     },
     "output_type": "display_data"
    }
   ],
   "source": [
    "acc = history.history['categorical_accuracy']\n",
    "val_acc = history.history['val_categorical_accuracy']\n",
    "\n",
    "epochs = range(len(acc))\n",
    "\n",
    "fig = plt.figure(figsize=(10,6))\n",
    "plt.plot(epochs,acc,c=\"red\",label=\"Training\")\n",
    "plt.plot(epochs,val_acc,c=\"blue\",label=\"Validation\")\n",
    "plt.xlabel(\"Epochs\")\n",
    "plt.ylabel(\"Accuracy\")\n",
    "plt.legend()"
   ]
  },
  {
   "cell_type": "markdown",
   "id": "revised-gilbert",
   "metadata": {
    "papermill": {
     "duration": 5.344563,
     "end_time": "2021-05-10T13:16:11.855868",
     "exception": false,
     "start_time": "2021-05-10T13:16:06.511305",
     "status": "completed"
    },
    "tags": []
   },
   "source": [
    "## Save the model\n",
    "\n",
    "We finally save the model in the standard TensorFlow 2 SavedModel format."
   ]
  },
  {
   "cell_type": "code",
   "execution_count": 15,
   "id": "sound-texture",
   "metadata": {
    "execution": {
     "iopub.execute_input": "2021-05-10T13:16:22.640677Z",
     "iopub.status.busy": "2021-05-10T13:16:22.639549Z",
     "iopub.status.idle": "2021-05-10T13:16:23.976688Z",
     "shell.execute_reply": "2021-05-10T13:16:23.975683Z"
    },
    "papermill": {
     "duration": 6.63491,
     "end_time": "2021-05-10T13:16:23.976953",
     "exception": false,
     "start_time": "2021-05-10T13:16:17.342043",
     "status": "completed"
    },
    "tags": []
   },
   "outputs": [],
   "source": [
    "model.save('final_model.h5')"
   ]
  }
 ],
 "metadata": {
  "kernelspec": {
   "display_name": "Python 3",
   "language": "python",
   "name": "python3"
  },
  "language_info": {
   "codemirror_mode": {
    "name": "ipython",
    "version": 3
   },
   "file_extension": ".py",
   "mimetype": "text/x-python",
   "name": "python",
   "nbconvert_exporter": "python",
   "pygments_lexer": "ipython3",
   "version": "3.7.9"
  },
  "papermill": {
   "default_parameters": {},
   "duration": 18861.491216,
   "end_time": "2021-05-10T13:16:32.798803",
   "environment_variables": {},
   "exception": null,
   "input_path": "__notebook__.ipynb",
   "output_path": "__notebook__.ipynb",
   "parameters": {},
   "start_time": "2021-05-10T08:02:11.307587",
   "version": "2.3.2"
  }
 },
 "nbformat": 4,
 "nbformat_minor": 5
}
